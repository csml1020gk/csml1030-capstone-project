{
  "nbformat": 4,
  "nbformat_minor": 0,
  "metadata": {
    "colab": {
      "name": "Phase1-Text-Extraction_GK.ipynb",
      "provenance": [],
      "collapsed_sections": [],
      "include_colab_link": true
    },
    "kernelspec": {
      "name": "python3",
      "display_name": "Python 3"
    },
    "language_info": {
      "name": "python"
    }
  },
  "cells": [
    {
      "cell_type": "markdown",
      "metadata": {
        "id": "view-in-github",
        "colab_type": "text"
      },
      "source": [
        "<a href=\"https://colab.research.google.com/github/csml1020gk/csml1030-capstone-project/blob/main/Phase1_Text_Extraction_GK.ipynb\" target=\"_parent\"><img src=\"https://colab.research.google.com/assets/colab-badge.svg\" alt=\"Open In Colab\"/></a>"
      ]
    },
    {
      "cell_type": "markdown",
      "metadata": {
        "id": "jnc2TVu5WgjZ"
      },
      "source": [
        "## 1. This notebook takes a PDF file as input and outputs extracted text as a .txt file \n",
        "\n",
        "## 2. Extractor used: PyPDF2 , can be extended for any other extractor like pyMuPDF, AWS textract , tesseract OCR extractor  \n",
        "\n",
        "## 3. The output shows the text per page and is saved to a list / dataframe / file under the directory you specify in save_path\n",
        "\n"
      ]
    },
    {
      "cell_type": "code",
      "metadata": {
        "colab": {
          "base_uri": "https://localhost:8080/"
        },
        "id": "CL5bdkDAW9cJ",
        "outputId": "6179fc92-95bf-40d0-c4fa-1f41eabb22ac"
      },
      "source": [
        "#installations - this will later go t a requirements.txt file \n",
        "!apt-get update\n",
        "!uname -a\n",
        "!pip install pypdf2\n",
        "!pip install PyMuPDF\n",
        "!pip install boto3\n",
        "# Setup for Extraction of unstructured text data\n",
        "# Update my Google Colab and Install Textract Library\n",
        "!apt-get install python-dev libxml2-dev libxslt1-dev antiword unrtf poppler-utils \\\n",
        " pstotext tesseract-ocr \\\n",
        " flac ffmpeg lame libmad0 libsox-fmt-mp3 sox libjpeg-dev swig libasound2-dev libpulse-dev\n",
        "!pip install git+https://github.com/deanmalmgren/textract\n",
        "\n",
        "\n"
      ],
      "execution_count": 46,
      "outputs": [
        {
          "output_type": "stream",
          "text": [
            "\r0% [Working]\r            \rIgn:1 https://developer.download.nvidia.com/compute/cuda/repos/ubuntu1804/x86_64  InRelease\n",
            "\r0% [Connecting to archive.ubuntu.com (91.189.88.152)] [Waiting for headers] [Wa\r                                                                               \rHit:2 https://cloud.r-project.org/bin/linux/ubuntu bionic-cran40/ InRelease\n",
            "\r0% [Connecting to archive.ubuntu.com (91.189.88.152)] [Waiting for headers] [Wa\r0% [2 InRelease gpgv 3,626 B] [Connecting to archive.ubuntu.com (91.189.88.152)\r                                                                               \rHit:3 http://security.ubuntu.com/ubuntu bionic-security InRelease\n",
            "\r0% [2 InRelease gpgv 3,626 B] [Connecting to archive.ubuntu.com (91.189.88.152)\r                                                                               \rIgn:4 https://developer.download.nvidia.com/compute/machine-learning/repos/ubuntu1804/x86_64  InRelease\n",
            "Hit:5 https://developer.download.nvidia.com/compute/cuda/repos/ubuntu1804/x86_64  Release\n",
            "Hit:6 https://developer.download.nvidia.com/compute/machine-learning/repos/ubuntu1804/x86_64  Release\n",
            "Hit:7 http://ppa.launchpad.net/c2d4u.team/c2d4u4.0+/ubuntu bionic InRelease\n",
            "Hit:8 http://archive.ubuntu.com/ubuntu bionic InRelease\n",
            "Hit:9 http://ppa.launchpad.net/cran/libgit2/ubuntu bionic InRelease\n",
            "Hit:10 http://archive.ubuntu.com/ubuntu bionic-updates InRelease\n",
            "Hit:11 http://archive.ubuntu.com/ubuntu bionic-backports InRelease\n",
            "Hit:12 http://ppa.launchpad.net/deadsnakes/ppa/ubuntu bionic InRelease\n",
            "Hit:14 http://ppa.launchpad.net/graphics-drivers/ppa/ubuntu bionic InRelease\n",
            "Reading package lists... Done\n",
            "Linux 8f72fb06259e 5.4.104+ #1 SMP Sat Jun 5 09:50:34 PDT 2021 x86_64 x86_64 x86_64 GNU/Linux\n",
            "Requirement already satisfied: pypdf2 in /usr/local/lib/python3.7/dist-packages (1.26.0)\n",
            "Requirement already satisfied: PyMuPDF in /usr/local/lib/python3.7/dist-packages (1.18.16)\n",
            "Requirement already satisfied: boto3 in /usr/local/lib/python3.7/dist-packages (1.18.24)\n",
            "Requirement already satisfied: jmespath<1.0.0,>=0.7.1 in /usr/local/lib/python3.7/dist-packages (from boto3) (0.10.0)\n",
            "Requirement already satisfied: s3transfer<0.6.0,>=0.5.0 in /usr/local/lib/python3.7/dist-packages (from boto3) (0.5.0)\n",
            "Requirement already satisfied: botocore<1.22.0,>=1.21.24 in /usr/local/lib/python3.7/dist-packages (from boto3) (1.21.24)\n",
            "Requirement already satisfied: urllib3<1.27,>=1.25.4 in /usr/local/lib/python3.7/dist-packages (from botocore<1.22.0,>=1.21.24->boto3) (1.26.6)\n",
            "Requirement already satisfied: python-dateutil<3.0.0,>=2.1 in /usr/local/lib/python3.7/dist-packages (from botocore<1.22.0,>=1.21.24->boto3) (2.8.2)\n",
            "Requirement already satisfied: six>=1.5 in /usr/local/lib/python3.7/dist-packages (from python-dateutil<3.0.0,>=2.1->botocore<1.22.0,>=1.21.24->boto3) (1.12.0)\n",
            "Reading package lists... Done\n",
            "Building dependency tree       \n",
            "Reading state information... Done\n",
            "libjpeg-dev is already the newest version (8c-2ubuntu8).\n",
            "python-dev is already the newest version (2.7.15~rc1-1).\n",
            "antiword is already the newest version (0.37-11build1).\n",
            "flac is already the newest version (1.3.2-1).\n",
            "lame is already the newest version (3.100-2).\n",
            "pstotext is already the newest version (1.9-6build1).\n",
            "swig is already the newest version (3.0.12-1).\n",
            "tesseract-ocr is already the newest version (4.00~git2288-10f4998a-2).\n",
            "unrtf is already the newest version (0.21.9-clean-3).\n",
            "libasound2-dev is already the newest version (1.1.3-5ubuntu0.6).\n",
            "libpulse-dev is already the newest version (1:11.1-1ubuntu7.11).\n",
            "libxml2-dev is already the newest version (2.9.4+dfsg1-6.1ubuntu1.4).\n",
            "libxslt1-dev is already the newest version (1.1.29-5ubuntu0.2).\n",
            "poppler-utils is already the newest version (0.62.0-2ubuntu2.12).\n",
            "ffmpeg is already the newest version (7:3.4.8-0ubuntu0.2).\n",
            "libmad0 is already the newest version (0.15.1b-9ubuntu18.04.1).\n",
            "libsox-fmt-mp3 is already the newest version (14.4.2-3ubuntu0.18.04.1).\n",
            "sox is already the newest version (14.4.2-3ubuntu0.18.04.1).\n",
            "The following package was automatically installed and is no longer required:\n",
            "  libnvidia-common-460\n",
            "Use 'apt autoremove' to remove it.\n",
            "0 upgraded, 0 newly installed, 0 to remove and 50 not upgraded.\n",
            "Collecting git+https://github.com/deanmalmgren/textract\n",
            "  Cloning https://github.com/deanmalmgren/textract to /tmp/pip-req-build-p68v60y0\n",
            "  Running command git clone -q https://github.com/deanmalmgren/textract /tmp/pip-req-build-p68v60y0\n",
            "Requirement already satisfied: argcomplete~=1.10.0 in /usr/local/lib/python3.7/dist-packages (from textract==1.6.3) (1.10.3)\n",
            "Requirement already satisfied: beautifulsoup4~=4.8.0 in /usr/local/lib/python3.7/dist-packages (from textract==1.6.3) (4.8.2)\n",
            "Requirement already satisfied: chardet==3.* in /usr/local/lib/python3.7/dist-packages (from textract==1.6.3) (3.0.4)\n",
            "Requirement already satisfied: docx2txt~=0.8 in /usr/local/lib/python3.7/dist-packages (from textract==1.6.3) (0.8)\n",
            "Requirement already satisfied: EbookLib==0.* in /usr/local/lib/python3.7/dist-packages (from textract==1.6.3) (0.17.1)\n",
            "Requirement already satisfied: extract-msg<=0.29.* in /usr/local/lib/python3.7/dist-packages (from textract==1.6.3) (0.28.7)\n",
            "Requirement already satisfied: pdfminer.six==20191110 in /usr/local/lib/python3.7/dist-packages (from textract==1.6.3) (20191110)\n",
            "Requirement already satisfied: python-pptx~=0.6.18 in /usr/local/lib/python3.7/dist-packages (from textract==1.6.3) (0.6.19)\n",
            "Requirement already satisfied: six~=1.12.0 in /usr/local/lib/python3.7/dist-packages (from textract==1.6.3) (1.12.0)\n",
            "Requirement already satisfied: SpeechRecognition~=3.8.1 in /usr/local/lib/python3.7/dist-packages (from textract==1.6.3) (3.8.1)\n",
            "Requirement already satisfied: xlrd~=1.2.0 in /usr/local/lib/python3.7/dist-packages (from textract==1.6.3) (1.2.0)\n",
            "Requirement already satisfied: lxml in /usr/local/lib/python3.7/dist-packages (from EbookLib==0.*->textract==1.6.3) (4.2.6)\n",
            "Requirement already satisfied: sortedcontainers in /usr/local/lib/python3.7/dist-packages (from pdfminer.six==20191110->textract==1.6.3) (2.4.0)\n",
            "Requirement already satisfied: pycryptodome in /usr/local/lib/python3.7/dist-packages (from pdfminer.six==20191110->textract==1.6.3) (3.10.1)\n",
            "Requirement already satisfied: soupsieve>=1.2 in /usr/local/lib/python3.7/dist-packages (from beautifulsoup4~=4.8.0->textract==1.6.3) (2.2.1)\n",
            "Requirement already satisfied: tzlocal>=2.1 in /usr/local/lib/python3.7/dist-packages (from extract-msg<=0.29.*->textract==1.6.3) (3.0)\n",
            "Requirement already satisfied: ebcdic>=1.1.1 in /usr/local/lib/python3.7/dist-packages (from extract-msg<=0.29.*->textract==1.6.3) (1.1.1)\n",
            "Requirement already satisfied: compressed-rtf>=1.0.6 in /usr/local/lib/python3.7/dist-packages (from extract-msg<=0.29.*->textract==1.6.3) (1.0.6)\n",
            "Requirement already satisfied: olefile>=0.46 in /usr/local/lib/python3.7/dist-packages (from extract-msg<=0.29.*->textract==1.6.3) (0.46)\n",
            "Requirement already satisfied: imapclient==2.1.0 in /usr/local/lib/python3.7/dist-packages (from extract-msg<=0.29.*->textract==1.6.3) (2.1.0)\n",
            "Requirement already satisfied: Pillow>=3.3.2 in /usr/local/lib/python3.7/dist-packages (from python-pptx~=0.6.18->textract==1.6.3) (7.1.2)\n",
            "Requirement already satisfied: XlsxWriter>=0.5.7 in /usr/local/lib/python3.7/dist-packages (from python-pptx~=0.6.18->textract==1.6.3) (3.0.1)\n",
            "Requirement already satisfied: backports.zoneinfo in /usr/local/lib/python3.7/dist-packages (from tzlocal>=2.1->extract-msg<=0.29.*->textract==1.6.3) (0.2.1)\n"
          ],
          "name": "stdout"
        }
      ]
    },
    {
      "cell_type": "markdown",
      "metadata": {
        "id": "2i1PFqbY8DaF"
      },
      "source": [
        "You have to mount your drive using your gmail credentials "
      ]
    },
    {
      "cell_type": "code",
      "metadata": {
        "colab": {
          "base_uri": "https://localhost:8080/"
        },
        "id": "FeXDDXZbXbSq",
        "outputId": "60042400-f493-48a3-be89-21e4fb5919d3"
      },
      "source": [
        "#mount drive\n",
        "from google.colab import drive\n",
        "drive.mount('/content/drive')\n"
      ],
      "execution_count": null,
      "outputs": [
        {
          "output_type": "stream",
          "text": [
            "Mounted at /content/drive\n"
          ],
          "name": "stdout"
        }
      ]
    },
    {
      "cell_type": "code",
      "metadata": {
        "id": "844neArFXX66"
      },
      "source": [
        "#imports\n",
        "from PyPDF2 import PdfFileReader\n",
        "import os \n",
        "import pandas as pd\n",
        "from pandas import DataFrame\n",
        "import sys\n",
        "import fitz# or any other library we plan to use instead of PyPDF2\n",
        "import textract\n"
      ],
      "execution_count": 47,
      "outputs": []
    },
    {
      "cell_type": "code",
      "metadata": {
        "id": "BLj4tPxfdAsu"
      },
      "source": [
        "#functions\n",
        "def listToString(s): \n",
        "    # initialize an empty string\n",
        "    str1 = \"\" \n",
        "    # traverse in the string  \n",
        "    for ele in s: \n",
        "      str1 += ele\n",
        "    # return string  \n",
        "    return str1 \n"
      ],
      "execution_count": 48,
      "outputs": []
    },
    {
      "cell_type": "markdown",
      "metadata": {
        "id": "iNMvS5fb8s47"
      },
      "source": [
        "Change base_path and save_path to the folder where you have your source pdfs stored "
      ]
    },
    {
      "cell_type": "code",
      "metadata": {
        "colab": {
          "base_uri": "https://localhost:8080/",
          "height": 35
        },
        "id": "-n358tEEYg9n",
        "outputId": "d087ce43-fcb0-404e-f4eb-1ce4b91bf978"
      },
      "source": [
        "#os\n",
        "base_path = '/content/drive/MyDrive/week6'#change this to the folder in Drive where you have your source pdf stored \n",
        "save_path = '/content/drive/MyDrive/week6'#change this tothe folder in Drive where you plan to store the extracted text \n",
        "os.chdir(base_path)\n",
        "os.getcwd()"
      ],
      "execution_count": null,
      "outputs": [
        {
          "output_type": "execute_result",
          "data": {
            "application/vnd.google.colaboratory.intrinsic+json": {
              "type": "string"
            },
            "text/plain": [
              "'/content/drive/MyDrive/week6'"
            ]
          },
          "metadata": {},
          "execution_count": 16
        }
      ]
    },
    {
      "cell_type": "markdown",
      "metadata": {
        "id": "OS9Q07T-9juU"
      },
      "source": [
        "Enter the file name and click on run "
      ]
    },
    {
      "cell_type": "code",
      "metadata": {
        "id": "ZTeEA4svYn93"
      },
      "source": [
        "os.listdir()\n",
        "#for now, pick one file to work with \n",
        "#@title String fields\n",
        "text = 'pdf5.pdf' #@param {type:\"string\"}\n",
        "filenames = text"
      ],
      "execution_count": 51,
      "outputs": []
    },
    {
      "cell_type": "code",
      "metadata": {
        "colab": {
          "base_uri": "https://localhost:8080/",
          "height": 35
        },
        "id": "FvpFpJxq9b78",
        "outputId": "81e78c62-de33-4a53-ee4c-ed22c2c7f9d1"
      },
      "source": [
        "filenames"
      ],
      "execution_count": 52,
      "outputs": [
        {
          "output_type": "execute_result",
          "data": {
            "application/vnd.google.colaboratory.intrinsic+json": {
              "type": "string"
            },
            "text/plain": [
              "'pdf5.pdf'"
            ]
          },
          "metadata": {},
          "execution_count": 52
        }
      ]
    },
    {
      "cell_type": "code",
      "metadata": {
        "id": "LUU43Mrxbu94"
      },
      "source": [
        "pdf_path= os.path.join(base_path, filenames)\n"
      ],
      "execution_count": 53,
      "outputs": []
    },
    {
      "cell_type": "code",
      "metadata": {
        "id": "nfhN0agfXwKx"
      },
      "source": [
        "#pypdf2 extracts text to a list \n",
        "pdfFileObj = open(pdf_path, 'rb')\n",
        "#We opened pdf1.pdf in binary mode. and saved the file object as pdfFileObj\n",
        "pdf = PdfFileReader(pdfFileObj)\n",
        "#create an object of PdfFileReader class of PyPDF2 module and  pass the pdf file object & get a pdf reader object.\n",
        "#print(pdfReader.numPages) # will give total number of pages in pdf\n",
        "#extract alll pagesas a list \n",
        "extracted_page_pypdf2 = []\n",
        "for page in pdf.pages:\n",
        "  extracted_page_pypdf2.append(page.extractText())\n",
        "#this is a list of strings of pages "
      ],
      "execution_count": 54,
      "outputs": []
    },
    {
      "cell_type": "code",
      "metadata": {
        "id": "BNBwb--Pfkiq"
      },
      "source": [
        "#convert list to dataframe \n",
        "\n",
        "df_extracted_pages_pypdf2 = DataFrame(extracted_page_pypdf2, columns =['text'])\n"
      ],
      "execution_count": 55,
      "outputs": []
    },
    {
      "cell_type": "markdown",
      "metadata": {
        "id": "4uXv_8Zn92KU"
      },
      "source": [
        "The file is saved to the save_path specified above to a file extracted_pypdf2_pdf5.txt\n",
        "\n",
        "\n",
        "\n"
      ]
    },
    {
      "cell_type": "code",
      "metadata": {
        "id": "B0cM7Ttlf2N6",
        "colab": {
          "base_uri": "https://localhost:8080/"
        },
        "outputId": "711d0fbe-ac6b-4cdd-8007-062a870a92ad"
      },
      "source": [
        "\n",
        "with open(os.path.join(save_path, \"extracted_pypdf2_pdf5.txt\"), 'w') as f:\n",
        "  \n",
        "    # write elements of list\n",
        "    #for items in extracted_page_pypdf2:\n",
        "    #    f.write('%s \\n' % items)\n",
        "    for i in (extracted_page_pypdf2):\n",
        "      f.write('%s\\n' % i)\n",
        "\n",
        "    print(\"File written successfully\")\n",
        "  \n",
        "# close the file\n",
        "f.close()\n",
        "\n"
      ],
      "execution_count": 62,
      "outputs": [
        {
          "output_type": "stream",
          "text": [
            "File written successfully\n"
          ],
          "name": "stdout"
        }
      ]
    },
    {
      "cell_type": "markdown",
      "metadata": {
        "id": "cGVbG4xt_407"
      },
      "source": [
        "The text file will be used in the next notebook Phase2_spacy_extract_variables\n",
        "\n",
        "Check your saved file by runnning the cell below "
      ]
    },
    {
      "cell_type": "code",
      "metadata": {
        "colab": {
          "base_uri": "https://localhost:8080/"
        },
        "id": "5HZsGdIhWfr4",
        "outputId": "dacb75ba-596a-4031-855e-1bd4c50f29be"
      },
      "source": [
        "os.listdir(save_path)"
      ],
      "execution_count": 63,
      "outputs": [
        {
          "output_type": "execute_result",
          "data": {
            "text/plain": [
              "['spacy_ner_entire_text_1pdf.ipynb',\n",
              " 'companies.json',\n",
              " 'ent.csv',\n",
              " 'spacy_extract_variables.ipynb',\n",
              " 'Phase1-Text-Extraction.ipynb',\n",
              " 'pdf5.pdf',\n",
              " 'extracted_pypdf2_pdf5.txt']"
            ]
          },
          "metadata": {},
          "execution_count": 63
        }
      ]
    }
  ]
}